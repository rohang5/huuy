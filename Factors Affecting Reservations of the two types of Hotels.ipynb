{
 "cells": [
  {
   "cell_type": "markdown",
   "id": "3a0f97f7",
   "metadata": {},
   "source": [
    "# Exploring the dataset & Identifying the different factors that affect hotel reservation"
   ]
  },
  {
   "cell_type": "code",
   "execution_count": null,
   "id": "583ed4d3",
   "metadata": {},
   "outputs": [],
   "source": []
  },
  {
   "cell_type": "markdown",
   "id": "72908269",
   "metadata": {},
   "source": [
    "Our goal is to identify the different factors that affect the reservation and thus revenues of the two different hotel types:\n",
    "\n",
    "•\tExplore the dataset to find how different variables like agents, booking channel, lead time etc. contribute to the reservation of City and Resort Hotel.\n",
    "\n",
    "•\tVisualize how the reservation rates of City and Resort Hotel differ from each other.\n",
    "\n",
    "Dataset Source: https://www.kaggle.com/jessemostipak/hotel-booking-demand\n",
    "\n",
    "Original Source:  Hotel Booking Demand Datasets, written by Nuno Antonio, Ana Almeida, and Luis Nunes for Data in Brief, Volume 22, February 2019. \n",
    "\n",
    "https://www.sciencedirect.com/science/article/pii/S2352340918315191\n"
   ]
  },
  {
   "cell_type": "markdown",
   "id": "dbddd346",
   "metadata": {},
   "source": [
    "\n",
    "#### Describe important characteristics of the data\n",
    "- The booking situation about different hotels?(How many bookings for each type?)\n",
    "- What's the average level of cancellation（for different types of hotels and different countries).\n",
    "- Time range related to booking and cancellation (What are the peak periods for cancellations and bookings?).\n",
    "- Lead time related to hotel booking.\n",
    "- What are the average daily rates(ADR) of the two types of Hotels over the three-year period?\n",
    "\n",
    "#### Focus on the cancellation\n",
    "- Is lead_time related to cancellation?\n",
    "- Does is_repeated_guest affect the probability of cancellation?\n",
    "\n",
    "#### Something more about customers and customer behavior\n",
    "- What's the composition of the customers?\n",
    "- How about customer behaviors( lead_time, special requests, meals, parking sapces)--descriptive\n",
    "- Would customers' request be different if travel with children?\n",
    "\n"
   ]
  },
  {
   "cell_type": "markdown",
   "id": "f0d9b4db",
   "metadata": {},
   "source": [
    "# A glance at the data set:"
   ]
  },
  {
   "cell_type": "code",
   "execution_count": 13,
   "id": "44ba9a53",
   "metadata": {},
   "outputs": [
    {
     "name": "stderr",
     "output_type": "stream",
     "text": [
      "Query complete after 0.00s: 100%|██████████| 1/1 [00:00<00:00, 507.54query/s]                          \n",
      "Downloading: 100%|██████████| 5/5 [00:01<00:00,  3.35rows/s]\n"
     ]
    },
    {
     "data": {
      "text/html": [
       "<div>\n",
       "<style scoped>\n",
       "    .dataframe tbody tr th:only-of-type {\n",
       "        vertical-align: middle;\n",
       "    }\n",
       "\n",
       "    .dataframe tbody tr th {\n",
       "        vertical-align: top;\n",
       "    }\n",
       "\n",
       "    .dataframe thead th {\n",
       "        text-align: right;\n",
       "    }\n",
       "</style>\n",
       "<table border=\"1\" class=\"dataframe\">\n",
       "  <thead>\n",
       "    <tr style=\"text-align: right;\">\n",
       "      <th></th>\n",
       "      <th>hotel</th>\n",
       "      <th>is_canceled</th>\n",
       "      <th>lead_time</th>\n",
       "      <th>arrival_date_year</th>\n",
       "      <th>arrival_date_month</th>\n",
       "      <th>arrival_date_week_number</th>\n",
       "      <th>arrival_date_day_of_month</th>\n",
       "      <th>stays_in_weekend_nights</th>\n",
       "      <th>stays_in_week_nights</th>\n",
       "      <th>adults</th>\n",
       "      <th>...</th>\n",
       "      <th>deposit_type</th>\n",
       "      <th>agent</th>\n",
       "      <th>company</th>\n",
       "      <th>days_in_waiting_list</th>\n",
       "      <th>customer_type</th>\n",
       "      <th>adr</th>\n",
       "      <th>required_car_parking_spaces</th>\n",
       "      <th>total_of_special_requests</th>\n",
       "      <th>reservation_status</th>\n",
       "      <th>reservation_status_date</th>\n",
       "    </tr>\n",
       "  </thead>\n",
       "  <tbody>\n",
       "    <tr>\n",
       "      <th>0</th>\n",
       "      <td>Resort Hotel</td>\n",
       "      <td>0</td>\n",
       "      <td>4</td>\n",
       "      <td>2015</td>\n",
       "      <td>November</td>\n",
       "      <td>45</td>\n",
       "      <td>2</td>\n",
       "      <td>1</td>\n",
       "      <td>1</td>\n",
       "      <td>1</td>\n",
       "      <td>...</td>\n",
       "      <td>No Deposit</td>\n",
       "      <td>1</td>\n",
       "      <td>NULL</td>\n",
       "      <td>0</td>\n",
       "      <td>Transient</td>\n",
       "      <td>25.00</td>\n",
       "      <td>0</td>\n",
       "      <td>0</td>\n",
       "      <td>Check-Out</td>\n",
       "      <td>2015-11-04</td>\n",
       "    </tr>\n",
       "    <tr>\n",
       "      <th>1</th>\n",
       "      <td>Resort Hotel</td>\n",
       "      <td>0</td>\n",
       "      <td>5</td>\n",
       "      <td>2015</td>\n",
       "      <td>November</td>\n",
       "      <td>49</td>\n",
       "      <td>30</td>\n",
       "      <td>1</td>\n",
       "      <td>3</td>\n",
       "      <td>1</td>\n",
       "      <td>...</td>\n",
       "      <td>No Deposit</td>\n",
       "      <td>1</td>\n",
       "      <td>NULL</td>\n",
       "      <td>0</td>\n",
       "      <td>Transient</td>\n",
       "      <td>25.00</td>\n",
       "      <td>0</td>\n",
       "      <td>0</td>\n",
       "      <td>Check-Out</td>\n",
       "      <td>2015-12-04</td>\n",
       "    </tr>\n",
       "    <tr>\n",
       "      <th>2</th>\n",
       "      <td>Resort Hotel</td>\n",
       "      <td>0</td>\n",
       "      <td>11</td>\n",
       "      <td>2016</td>\n",
       "      <td>January</td>\n",
       "      <td>2</td>\n",
       "      <td>3</td>\n",
       "      <td>2</td>\n",
       "      <td>1</td>\n",
       "      <td>2</td>\n",
       "      <td>...</td>\n",
       "      <td>No Deposit</td>\n",
       "      <td>1</td>\n",
       "      <td>NULL</td>\n",
       "      <td>0</td>\n",
       "      <td>Transient</td>\n",
       "      <td>39.00</td>\n",
       "      <td>1</td>\n",
       "      <td>1</td>\n",
       "      <td>Check-Out</td>\n",
       "      <td>2016-01-06</td>\n",
       "    </tr>\n",
       "    <tr>\n",
       "      <th>3</th>\n",
       "      <td>City Hotel</td>\n",
       "      <td>0</td>\n",
       "      <td>3</td>\n",
       "      <td>2015</td>\n",
       "      <td>July</td>\n",
       "      <td>27</td>\n",
       "      <td>2</td>\n",
       "      <td>0</td>\n",
       "      <td>3</td>\n",
       "      <td>1</td>\n",
       "      <td>...</td>\n",
       "      <td>No Deposit</td>\n",
       "      <td>1</td>\n",
       "      <td>NULL</td>\n",
       "      <td>0</td>\n",
       "      <td>Transient-Party</td>\n",
       "      <td>58.67</td>\n",
       "      <td>0</td>\n",
       "      <td>0</td>\n",
       "      <td>Check-Out</td>\n",
       "      <td>2015-07-05</td>\n",
       "    </tr>\n",
       "    <tr>\n",
       "      <th>4</th>\n",
       "      <td>City Hotel</td>\n",
       "      <td>0</td>\n",
       "      <td>43</td>\n",
       "      <td>2015</td>\n",
       "      <td>July</td>\n",
       "      <td>27</td>\n",
       "      <td>3</td>\n",
       "      <td>0</td>\n",
       "      <td>2</td>\n",
       "      <td>2</td>\n",
       "      <td>...</td>\n",
       "      <td>No Deposit</td>\n",
       "      <td>1</td>\n",
       "      <td>NULL</td>\n",
       "      <td>0</td>\n",
       "      <td>Transient-Party</td>\n",
       "      <td>86.00</td>\n",
       "      <td>0</td>\n",
       "      <td>0</td>\n",
       "      <td>Check-Out</td>\n",
       "      <td>2015-07-05</td>\n",
       "    </tr>\n",
       "  </tbody>\n",
       "</table>\n",
       "<p>5 rows × 32 columns</p>\n",
       "</div>"
      ],
      "text/plain": [
       "          hotel  is_canceled  lead_time  arrival_date_year arrival_date_month  \\\n",
       "0  Resort Hotel            0          4               2015           November   \n",
       "1  Resort Hotel            0          5               2015           November   \n",
       "2  Resort Hotel            0         11               2016            January   \n",
       "3    City Hotel            0          3               2015               July   \n",
       "4    City Hotel            0         43               2015               July   \n",
       "\n",
       "   arrival_date_week_number  arrival_date_day_of_month  \\\n",
       "0                        45                          2   \n",
       "1                        49                         30   \n",
       "2                         2                          3   \n",
       "3                        27                          2   \n",
       "4                        27                          3   \n",
       "\n",
       "   stays_in_weekend_nights  stays_in_week_nights  adults  ...  deposit_type  \\\n",
       "0                        1                     1       1  ...    No Deposit   \n",
       "1                        1                     3       1  ...    No Deposit   \n",
       "2                        2                     1       2  ...    No Deposit   \n",
       "3                        0                     3       1  ...    No Deposit   \n",
       "4                        0                     2       2  ...    No Deposit   \n",
       "\n",
       "   agent company days_in_waiting_list    customer_type    adr  \\\n",
       "0      1    NULL                    0        Transient  25.00   \n",
       "1      1    NULL                    0        Transient  25.00   \n",
       "2      1    NULL                    0        Transient  39.00   \n",
       "3      1    NULL                    0  Transient-Party  58.67   \n",
       "4      1    NULL                    0  Transient-Party  86.00   \n",
       "\n",
       "   required_car_parking_spaces  total_of_special_requests  reservation_status  \\\n",
       "0                            0                          0           Check-Out   \n",
       "1                            0                          0           Check-Out   \n",
       "2                            1                          1           Check-Out   \n",
       "3                            0                          0           Check-Out   \n",
       "4                            0                          0           Check-Out   \n",
       "\n",
       "  reservation_status_date  \n",
       "0              2015-11-04  \n",
       "1              2015-12-04  \n",
       "2              2016-01-06  \n",
       "3              2015-07-05  \n",
       "4              2015-07-05  \n",
       "\n",
       "[5 rows x 32 columns]"
      ]
     },
     "execution_count": 13,
     "metadata": {},
     "output_type": "execute_result"
    }
   ],
   "source": [
    "%%bigquery \n",
    "--project ba775-team-6\n",
    "SELECT *\n",
    "FROM `ba-775-project-team6.HotelBooking.hotelbooking`\n",
    "LIMIT 5;"
   ]
  },
  {
   "cell_type": "code",
   "execution_count": 32,
   "id": "986d39fb",
   "metadata": {},
   "outputs": [
    {
     "name": "stderr",
     "output_type": "stream",
     "text": [
      "Query complete after 0.00s: 100%|██████████| 2/2 [00:00<00:00, 1164.28query/s]                        \n",
      "Downloading: 100%|██████████| 1/1 [00:01<00:00,  1.60s/rows]\n"
     ]
    },
    {
     "data": {
      "text/html": [
       "<div>\n",
       "<style scoped>\n",
       "    .dataframe tbody tr th:only-of-type {\n",
       "        vertical-align: middle;\n",
       "    }\n",
       "\n",
       "    .dataframe tbody tr th {\n",
       "        vertical-align: top;\n",
       "    }\n",
       "\n",
       "    .dataframe thead th {\n",
       "        text-align: right;\n",
       "    }\n",
       "</style>\n",
       "<table border=\"1\" class=\"dataframe\">\n",
       "  <thead>\n",
       "    <tr style=\"text-align: right;\">\n",
       "      <th></th>\n",
       "      <th>Total_Sample_Number</th>\n",
       "    </tr>\n",
       "  </thead>\n",
       "  <tbody>\n",
       "    <tr>\n",
       "      <th>0</th>\n",
       "      <td>119390</td>\n",
       "    </tr>\n",
       "  </tbody>\n",
       "</table>\n",
       "</div>"
      ],
      "text/plain": [
       "   Total_Sample_Number\n",
       "0               119390"
      ]
     },
     "execution_count": 32,
     "metadata": {},
     "output_type": "execute_result"
    }
   ],
   "source": [
    "%%bigquery\n",
    "SELECT COUNT(*) AS Total_Sample_Number FROM `ba-775-project-team6.HotelBooking.hotelbooking`"
   ]
  },
  {
   "cell_type": "markdown",
   "id": "fcdc1ff3",
   "metadata": {},
   "source": [
    "The dataset contains 32 columns and 119390 rows. Including important variables like is_canceled(Whether this booking case is canceled), lead_time(How many days is this reservation made in advance), is_repeated_guest(Whether this customer is a repeated guest). The cases are collected from all over the world, and divided into two hotel types: resort hotel and city hotel."
   ]
  },
  {
   "cell_type": "markdown",
   "id": "4f429dc4",
   "metadata": {},
   "source": [
    "# Describe important characteristics of the data\n",
    "\n",
    "### How many booking cases and cancellations do different types of hotels have? \n",
    "### What's the cancellation rate of the two types of hotels?"
   ]
  },
  {
   "cell_type": "code",
   "execution_count": 78,
   "id": "e49a6d54",
   "metadata": {},
   "outputs": [
    {
     "name": "stderr",
     "output_type": "stream",
     "text": [
      "Query complete after 0.00s: 100%|██████████| 2/2 [00:00<00:00, 987.13query/s]                         \n",
      "Downloading: 100%|██████████| 2/2 [00:01<00:00,  1.77rows/s]\n"
     ]
    },
    {
     "data": {
      "text/html": [
       "<div>\n",
       "<style scoped>\n",
       "    .dataframe tbody tr th:only-of-type {\n",
       "        vertical-align: middle;\n",
       "    }\n",
       "\n",
       "    .dataframe tbody tr th {\n",
       "        vertical-align: top;\n",
       "    }\n",
       "\n",
       "    .dataframe thead th {\n",
       "        text-align: right;\n",
       "    }\n",
       "</style>\n",
       "<table border=\"1\" class=\"dataframe\">\n",
       "  <thead>\n",
       "    <tr style=\"text-align: right;\">\n",
       "      <th></th>\n",
       "      <th>Hotel_Type</th>\n",
       "      <th>Total_Number_of_Booking</th>\n",
       "      <th>Total_Number_of_Cancellation</th>\n",
       "      <th>Cancellation_Rate</th>\n",
       "    </tr>\n",
       "  </thead>\n",
       "  <tbody>\n",
       "    <tr>\n",
       "      <th>0</th>\n",
       "      <td>Resort Hotel</td>\n",
       "      <td>40060</td>\n",
       "      <td>11122</td>\n",
       "      <td>0.277634</td>\n",
       "    </tr>\n",
       "    <tr>\n",
       "      <th>1</th>\n",
       "      <td>City Hotel</td>\n",
       "      <td>79330</td>\n",
       "      <td>33102</td>\n",
       "      <td>0.417270</td>\n",
       "    </tr>\n",
       "  </tbody>\n",
       "</table>\n",
       "</div>"
      ],
      "text/plain": [
       "     Hotel_Type  Total_Number_of_Booking  Total_Number_of_Cancellation  \\\n",
       "0  Resort Hotel                    40060                         11122   \n",
       "1    City Hotel                    79330                         33102   \n",
       "\n",
       "   Cancellation_Rate  \n",
       "0           0.277634  \n",
       "1           0.417270  "
      ]
     },
     "execution_count": 78,
     "metadata": {},
     "output_type": "execute_result"
    }
   ],
   "source": [
    "%%bigquery\n",
    "SELECT \n",
    "hotel AS Hotel_Type,\n",
    "COUNT(*) AS Total_Number_of_Booking,\n",
    "SUM(is_canceled) AS Total_Number_of_Cancellation,\n",
    "AVG(is_canceled) AS Cancellation_Rate\n",
    "FROM `ba-775-project-team6.HotelBooking.hotelbooking`\n",
    "GROUP BY hotel"
   ]
  },
  {
   "cell_type": "markdown",
   "id": "33d16d97",
   "metadata": {},
   "source": [
    "The cancellation rate of Resort Hotel is 0.277634, and the cancellation rate of City Hotel is 0.417270."
   ]
  },
  {
   "cell_type": "markdown",
   "id": "45585451",
   "metadata": {},
   "source": [
    "### Identify the cancellation rate for countres having the most booking cases."
   ]
  },
  {
   "cell_type": "code",
   "execution_count": 81,
   "id": "215e3be2",
   "metadata": {},
   "outputs": [
    {
     "name": "stderr",
     "output_type": "stream",
     "text": [
      "Query complete after 0.00s: 100%|██████████| 3/3 [00:00<00:00, 1727.95query/s]                        \n",
      "Downloading: 100%|██████████| 5/5 [00:01<00:00,  2.90rows/s]\n"
     ]
    },
    {
     "data": {
      "text/html": [
       "<div>\n",
       "<style scoped>\n",
       "    .dataframe tbody tr th:only-of-type {\n",
       "        vertical-align: middle;\n",
       "    }\n",
       "\n",
       "    .dataframe tbody tr th {\n",
       "        vertical-align: top;\n",
       "    }\n",
       "\n",
       "    .dataframe thead th {\n",
       "        text-align: right;\n",
       "    }\n",
       "</style>\n",
       "<table border=\"1\" class=\"dataframe\">\n",
       "  <thead>\n",
       "    <tr style=\"text-align: right;\">\n",
       "      <th></th>\n",
       "      <th>country</th>\n",
       "      <th>cancellation_rate</th>\n",
       "    </tr>\n",
       "  </thead>\n",
       "  <tbody>\n",
       "    <tr>\n",
       "      <th>0</th>\n",
       "      <td>PRT</td>\n",
       "      <td>0.566351</td>\n",
       "    </tr>\n",
       "    <tr>\n",
       "      <th>1</th>\n",
       "      <td>GBR</td>\n",
       "      <td>0.202243</td>\n",
       "    </tr>\n",
       "    <tr>\n",
       "      <th>2</th>\n",
       "      <td>FRA</td>\n",
       "      <td>0.185694</td>\n",
       "    </tr>\n",
       "    <tr>\n",
       "      <th>3</th>\n",
       "      <td>ESP</td>\n",
       "      <td>0.254085</td>\n",
       "    </tr>\n",
       "    <tr>\n",
       "      <th>4</th>\n",
       "      <td>DEU</td>\n",
       "      <td>0.167147</td>\n",
       "    </tr>\n",
       "  </tbody>\n",
       "</table>\n",
       "</div>"
      ],
      "text/plain": [
       "  country  cancellation_rate\n",
       "0     PRT           0.566351\n",
       "1     GBR           0.202243\n",
       "2     FRA           0.185694\n",
       "3     ESP           0.254085\n",
       "4     DEU           0.167147"
      ]
     },
     "execution_count": 81,
     "metadata": {},
     "output_type": "execute_result"
    }
   ],
   "source": [
    "%%bigquery  \n",
    "SELECT\n",
    "  country,\n",
    "  avg(is_canceled) as cancellation_rate\n",
    "FROM\n",
    "  `ba-775-project-team6.HotelBooking.hotelbooking`\n",
    "GROUP BY\n",
    "  country\n",
    "ORDER BY\n",
    "  count(*) DESC\n",
    "LIMIT\n",
    "  5\n"
   ]
  },
  {
   "cell_type": "markdown",
   "id": "7dc7e889",
   "metadata": {},
   "source": [
    "The cancellation rates if the top five cities which have the most booking cases are: PRT 0.566351, GBR 0.202243,FRA 0.185694,ESP 0.254085,DEU 0.167147.(Ordered by the cancellation rate in decending order.)"
   ]
  },
  {
   "cell_type": "markdown",
   "id": "2b5e6112",
   "metadata": {},
   "source": [
    "![](https://2615d6a73e1c8ea7-dot-us-west1.notebooks.googleusercontent.com/files/Project/Screenshot%202021-08-29%20at%2012.10.33%20PM.png?_xsrf=2%7C97c0573c%7C9ee4eeeb0f3089fb46944e66596858da%7C1629735722)\n"
   ]
  },
  {
   "cell_type": "markdown",
   "id": "f11ada38",
   "metadata": {},
   "source": [
    "### What are the peak periods for cancellations and bookings?"
   ]
  },
  {
   "cell_type": "code",
   "execution_count": 83,
   "id": "45523537",
   "metadata": {},
   "outputs": [
    {
     "name": "stderr",
     "output_type": "stream",
     "text": [
      "Query complete after 0.00s: 100%|██████████| 5/5 [00:00<00:00, 2750.72query/s]                        \n",
      "Downloading: 100%|██████████| 12/12 [00:01<00:00,  9.19rows/s]\n"
     ]
    },
    {
     "data": {
      "text/html": [
       "<div>\n",
       "<style scoped>\n",
       "    .dataframe tbody tr th:only-of-type {\n",
       "        vertical-align: middle;\n",
       "    }\n",
       "\n",
       "    .dataframe tbody tr th {\n",
       "        vertical-align: top;\n",
       "    }\n",
       "\n",
       "    .dataframe thead th {\n",
       "        text-align: right;\n",
       "    }\n",
       "</style>\n",
       "<table border=\"1\" class=\"dataframe\">\n",
       "  <thead>\n",
       "    <tr style=\"text-align: right;\">\n",
       "      <th></th>\n",
       "      <th>Month</th>\n",
       "      <th>Number_of_Booking</th>\n",
       "      <th>Proportion_of_Booking</th>\n",
       "      <th>Number_of_Cancellation</th>\n",
       "      <th>Cancellation_Rate</th>\n",
       "    </tr>\n",
       "  </thead>\n",
       "  <tbody>\n",
       "    <tr>\n",
       "      <th>0</th>\n",
       "      <td>January</td>\n",
       "      <td>5929</td>\n",
       "      <td>0.050</td>\n",
       "      <td>1807</td>\n",
       "      <td>0.305</td>\n",
       "    </tr>\n",
       "    <tr>\n",
       "      <th>1</th>\n",
       "      <td>February</td>\n",
       "      <td>8068</td>\n",
       "      <td>0.068</td>\n",
       "      <td>2696</td>\n",
       "      <td>0.334</td>\n",
       "    </tr>\n",
       "    <tr>\n",
       "      <th>2</th>\n",
       "      <td>March</td>\n",
       "      <td>9794</td>\n",
       "      <td>0.082</td>\n",
       "      <td>3149</td>\n",
       "      <td>0.322</td>\n",
       "    </tr>\n",
       "    <tr>\n",
       "      <th>3</th>\n",
       "      <td>April</td>\n",
       "      <td>11089</td>\n",
       "      <td>0.093</td>\n",
       "      <td>4524</td>\n",
       "      <td>0.408</td>\n",
       "    </tr>\n",
       "    <tr>\n",
       "      <th>4</th>\n",
       "      <td>May</td>\n",
       "      <td>11791</td>\n",
       "      <td>0.099</td>\n",
       "      <td>4677</td>\n",
       "      <td>0.397</td>\n",
       "    </tr>\n",
       "    <tr>\n",
       "      <th>5</th>\n",
       "      <td>June</td>\n",
       "      <td>10939</td>\n",
       "      <td>0.092</td>\n",
       "      <td>4535</td>\n",
       "      <td>0.415</td>\n",
       "    </tr>\n",
       "    <tr>\n",
       "      <th>6</th>\n",
       "      <td>July</td>\n",
       "      <td>12661</td>\n",
       "      <td>0.106</td>\n",
       "      <td>4742</td>\n",
       "      <td>0.375</td>\n",
       "    </tr>\n",
       "    <tr>\n",
       "      <th>7</th>\n",
       "      <td>August</td>\n",
       "      <td>13877</td>\n",
       "      <td>0.116</td>\n",
       "      <td>5239</td>\n",
       "      <td>0.378</td>\n",
       "    </tr>\n",
       "    <tr>\n",
       "      <th>8</th>\n",
       "      <td>September</td>\n",
       "      <td>10508</td>\n",
       "      <td>0.088</td>\n",
       "      <td>4116</td>\n",
       "      <td>0.392</td>\n",
       "    </tr>\n",
       "    <tr>\n",
       "      <th>9</th>\n",
       "      <td>October</td>\n",
       "      <td>11160</td>\n",
       "      <td>0.093</td>\n",
       "      <td>4246</td>\n",
       "      <td>0.380</td>\n",
       "    </tr>\n",
       "    <tr>\n",
       "      <th>10</th>\n",
       "      <td>November</td>\n",
       "      <td>6794</td>\n",
       "      <td>0.057</td>\n",
       "      <td>2122</td>\n",
       "      <td>0.312</td>\n",
       "    </tr>\n",
       "    <tr>\n",
       "      <th>11</th>\n",
       "      <td>December</td>\n",
       "      <td>6780</td>\n",
       "      <td>0.057</td>\n",
       "      <td>2371</td>\n",
       "      <td>0.350</td>\n",
       "    </tr>\n",
       "  </tbody>\n",
       "</table>\n",
       "</div>"
      ],
      "text/plain": [
       "        Month  Number_of_Booking  Proportion_of_Booking  \\\n",
       "0     January               5929                  0.050   \n",
       "1    February               8068                  0.068   \n",
       "2       March               9794                  0.082   \n",
       "3       April              11089                  0.093   \n",
       "4         May              11791                  0.099   \n",
       "5        June              10939                  0.092   \n",
       "6        July              12661                  0.106   \n",
       "7      August              13877                  0.116   \n",
       "8   September              10508                  0.088   \n",
       "9     October              11160                  0.093   \n",
       "10   November               6794                  0.057   \n",
       "11   December               6780                  0.057   \n",
       "\n",
       "    Number_of_Cancellation  Cancellation_Rate  \n",
       "0                     1807              0.305  \n",
       "1                     2696              0.334  \n",
       "2                     3149              0.322  \n",
       "3                     4524              0.408  \n",
       "4                     4677              0.397  \n",
       "5                     4535              0.415  \n",
       "6                     4742              0.375  \n",
       "7                     5239              0.378  \n",
       "8                     4116              0.392  \n",
       "9                     4246              0.380  \n",
       "10                    2122              0.312  \n",
       "11                    2371              0.350  "
      ]
     },
     "execution_count": 83,
     "metadata": {},
     "output_type": "execute_result"
    }
   ],
   "source": [
    "%%bigquery\n",
    "SELECT Month,Number_of_Booking,\n",
    "ROUND(Number_of_Booking/Total_Booking,3) AS Proportion_of_Booking,\n",
    "Number_of_Cancellation,\n",
    "Round(Number_of_Cancellation/Number_of_Booking,3) AS Cancellation_Rate\n",
    "FROM \n",
    "(SELECT arrival_date_month AS Month,\n",
    "COUNT(*) AS Number_of_Booking,\n",
    "SUM(is_canceled) Number_of_Cancellation,\n",
    " (SELECT COUNT(*) FROM `ba-775-project-team6.HotelBooking.hotelbooking`) AS Total_Booking\n",
    "FROM `ba-775-project-team6.HotelBooking.hotelbooking`\n",
    "GROUP BY arrival_date_month)\n",
    "ORDER BY PARSE_DATE('%b',Month)\n"
   ]
  },
  {
   "cell_type": "markdown",
   "id": "1f009932",
   "metadata": {},
   "source": [
    "#### a) For a booking case"
   ]
  },
  {
   "cell_type": "code",
   "execution_count": 91,
   "id": "ee317d3e",
   "metadata": {},
   "outputs": [
    {
     "name": "stderr",
     "output_type": "stream",
     "text": [
      "Query complete after 0.00s: 100%|██████████| 5/5 [00:00<00:00, 2824.45query/s]                        \n",
      "Downloading: 100%|██████████| 3/3 [00:01<00:00,  1.94rows/s]\n"
     ]
    },
    {
     "data": {
      "text/html": [
       "<div>\n",
       "<style scoped>\n",
       "    .dataframe tbody tr th:only-of-type {\n",
       "        vertical-align: middle;\n",
       "    }\n",
       "\n",
       "    .dataframe tbody tr th {\n",
       "        vertical-align: top;\n",
       "    }\n",
       "\n",
       "    .dataframe thead th {\n",
       "        text-align: right;\n",
       "    }\n",
       "</style>\n",
       "<table border=\"1\" class=\"dataframe\">\n",
       "  <thead>\n",
       "    <tr style=\"text-align: right;\">\n",
       "      <th></th>\n",
       "      <th>Month</th>\n",
       "      <th>Number_of_Booking</th>\n",
       "      <th>Proportion_of_Booking</th>\n",
       "      <th>Number_of_Cancellation</th>\n",
       "      <th>Cancellation_Rate</th>\n",
       "    </tr>\n",
       "  </thead>\n",
       "  <tbody>\n",
       "    <tr>\n",
       "      <th>0</th>\n",
       "      <td>August</td>\n",
       "      <td>13877</td>\n",
       "      <td>0.116</td>\n",
       "      <td>5239</td>\n",
       "      <td>0.378</td>\n",
       "    </tr>\n",
       "    <tr>\n",
       "      <th>1</th>\n",
       "      <td>July</td>\n",
       "      <td>12661</td>\n",
       "      <td>0.106</td>\n",
       "      <td>4742</td>\n",
       "      <td>0.375</td>\n",
       "    </tr>\n",
       "    <tr>\n",
       "      <th>2</th>\n",
       "      <td>May</td>\n",
       "      <td>11791</td>\n",
       "      <td>0.099</td>\n",
       "      <td>4677</td>\n",
       "      <td>0.397</td>\n",
       "    </tr>\n",
       "  </tbody>\n",
       "</table>\n",
       "</div>"
      ],
      "text/plain": [
       "    Month  Number_of_Booking  Proportion_of_Booking  Number_of_Cancellation  \\\n",
       "0  August              13877                  0.116                    5239   \n",
       "1    July              12661                  0.106                    4742   \n",
       "2     May              11791                  0.099                    4677   \n",
       "\n",
       "   Cancellation_Rate  \n",
       "0              0.378  \n",
       "1              0.375  \n",
       "2              0.397  "
      ]
     },
     "execution_count": 91,
     "metadata": {},
     "output_type": "execute_result"
    }
   ],
   "source": [
    "%%bigquery\n",
    "SELECT Month,Number_of_Booking,\n",
    "ROUND(Number_of_Booking/Total_Booking,3) AS Proportion_of_Booking,\n",
    "Number_of_Cancellation,\n",
    "Round(Number_of_Cancellation/Number_of_Booking,3) AS Cancellation_Rate\n",
    "FROM \n",
    "(SELECT arrival_date_month AS Month,\n",
    "COUNT(*) AS Number_of_Booking,\n",
    "SUM(is_canceled) Number_of_Cancellation,\n",
    " (SELECT COUNT(*) FROM `ba-775-project-team6.HotelBooking.hotelbooking`) AS Total_Booking\n",
    "FROM `ba-775-project-team6.HotelBooking.hotelbooking`\n",
    "GROUP BY arrival_date_month)\n",
    "ORDER BY Number_of_Booking DESC\n",
    "LIMIT 3"
   ]
  },
  {
   "cell_type": "markdown",
   "id": "779e2748",
   "metadata": {},
   "source": [
    "![](https://2615d6a73e1c8ea7-dot-us-west1.notebooks.googleusercontent.com/files/Project/Screenshot%202021-08-29%20at%2012.31.37%20PM.png?_xsrf=2%7C97c0573c%7C9ee4eeeb0f3089fb46944e66596858da%7C1629735722)"
   ]
  },
  {
   "cell_type": "markdown",
   "id": "37cdb4fc",
   "metadata": {},
   "source": [
    "The month with the highest number and highest proportion of booking is August."
   ]
  },
  {
   "cell_type": "markdown",
   "id": "8fda586a",
   "metadata": {},
   "source": [
    "#### b) For a cancellation"
   ]
  },
  {
   "cell_type": "code",
   "execution_count": 92,
   "id": "43379a44",
   "metadata": {},
   "outputs": [
    {
     "name": "stderr",
     "output_type": "stream",
     "text": [
      "Query complete after 0.00s: 100%|██████████| 5/5 [00:00<00:00, 2626.04query/s]                        \n",
      "Downloading: 100%|██████████| 3/3 [00:01<00:00,  1.72rows/s]\n"
     ]
    },
    {
     "data": {
      "text/html": [
       "<div>\n",
       "<style scoped>\n",
       "    .dataframe tbody tr th:only-of-type {\n",
       "        vertical-align: middle;\n",
       "    }\n",
       "\n",
       "    .dataframe tbody tr th {\n",
       "        vertical-align: top;\n",
       "    }\n",
       "\n",
       "    .dataframe thead th {\n",
       "        text-align: right;\n",
       "    }\n",
       "</style>\n",
       "<table border=\"1\" class=\"dataframe\">\n",
       "  <thead>\n",
       "    <tr style=\"text-align: right;\">\n",
       "      <th></th>\n",
       "      <th>Month</th>\n",
       "      <th>Number_of_Booking</th>\n",
       "      <th>Proportion_of_Booking</th>\n",
       "      <th>Number_of_Cancellation</th>\n",
       "      <th>Cancellation_Rate</th>\n",
       "    </tr>\n",
       "  </thead>\n",
       "  <tbody>\n",
       "    <tr>\n",
       "      <th>0</th>\n",
       "      <td>June</td>\n",
       "      <td>10939</td>\n",
       "      <td>0.092</td>\n",
       "      <td>4535</td>\n",
       "      <td>0.415</td>\n",
       "    </tr>\n",
       "    <tr>\n",
       "      <th>1</th>\n",
       "      <td>April</td>\n",
       "      <td>11089</td>\n",
       "      <td>0.093</td>\n",
       "      <td>4524</td>\n",
       "      <td>0.408</td>\n",
       "    </tr>\n",
       "    <tr>\n",
       "      <th>2</th>\n",
       "      <td>May</td>\n",
       "      <td>11791</td>\n",
       "      <td>0.099</td>\n",
       "      <td>4677</td>\n",
       "      <td>0.397</td>\n",
       "    </tr>\n",
       "  </tbody>\n",
       "</table>\n",
       "</div>"
      ],
      "text/plain": [
       "   Month  Number_of_Booking  Proportion_of_Booking  Number_of_Cancellation  \\\n",
       "0   June              10939                  0.092                    4535   \n",
       "1  April              11089                  0.093                    4524   \n",
       "2    May              11791                  0.099                    4677   \n",
       "\n",
       "   Cancellation_Rate  \n",
       "0              0.415  \n",
       "1              0.408  \n",
       "2              0.397  "
      ]
     },
     "execution_count": 92,
     "metadata": {},
     "output_type": "execute_result"
    }
   ],
   "source": [
    "%%bigquery\n",
    "SELECT Month,Number_of_Booking,\n",
    "ROUND(Number_of_Booking/Total_Booking,3) AS Proportion_of_Booking,\n",
    "Number_of_Cancellation,\n",
    "Round(Number_of_Cancellation/Number_of_Booking,3) AS Cancellation_Rate\n",
    "FROM \n",
    "(SELECT arrival_date_month AS Month,\n",
    "COUNT(*) AS Number_of_Booking,\n",
    "SUM(is_canceled) Number_of_Cancellation,\n",
    " (SELECT COUNT(*) FROM `ba-775-project-team6.HotelBooking.hotelbooking`) AS Total_Booking\n",
    "FROM `ba-775-project-team6.HotelBooking.hotelbooking`\n",
    "GROUP BY arrival_date_month)\n",
    "ORDER BY Cancellation_Rate DESC\n",
    "LIMIT 3"
   ]
  },
  {
   "cell_type": "markdown",
   "id": "10e04bbc",
   "metadata": {},
   "source": [
    "![](https://2615d6a73e1c8ea7-dot-us-west1.notebooks.googleusercontent.com/files/Project/Screenshot%202021-08-29%20at%2012.33.52%20PM.png?_xsrf=2%7C97c0573c%7C9ee4eeeb0f3089fb46944e66596858da%7C1629735722)"
   ]
  },
  {
   "cell_type": "markdown",
   "id": "5b7ac3e4",
   "metadata": {},
   "source": [
    "The month with the highest rate of cancellation is June."
   ]
  },
  {
   "cell_type": "markdown",
   "id": "e206b035",
   "metadata": {},
   "source": [
    "### How many days will the hotel be booked in advance(lead_time)？\n",
    "### Is there any difference for different hotel types?"
   ]
  },
  {
   "cell_type": "code",
   "execution_count": 1,
   "id": "0c5e0714",
   "metadata": {},
   "outputs": [
    {
     "name": "stderr",
     "output_type": "stream",
     "text": [
      "Query complete after 0.01s: 100%|██████████| 2/2 [00:00<00:00, 1184.83query/s]                        \n",
      "Downloading: 100%|██████████| 2/2 [00:01<00:00,  1.44rows/s]\n"
     ]
    },
    {
     "data": {
      "text/html": [
       "<div>\n",
       "<style scoped>\n",
       "    .dataframe tbody tr th:only-of-type {\n",
       "        vertical-align: middle;\n",
       "    }\n",
       "\n",
       "    .dataframe tbody tr th {\n",
       "        vertical-align: top;\n",
       "    }\n",
       "\n",
       "    .dataframe thead th {\n",
       "        text-align: right;\n",
       "    }\n",
       "</style>\n",
       "<table border=\"1\" class=\"dataframe\">\n",
       "  <thead>\n",
       "    <tr style=\"text-align: right;\">\n",
       "      <th></th>\n",
       "      <th>hotel</th>\n",
       "      <th>avg_lead_time</th>\n",
       "    </tr>\n",
       "  </thead>\n",
       "  <tbody>\n",
       "    <tr>\n",
       "      <th>0</th>\n",
       "      <td>Resort Hotel</td>\n",
       "      <td>92.675686</td>\n",
       "    </tr>\n",
       "    <tr>\n",
       "      <th>1</th>\n",
       "      <td>City Hotel</td>\n",
       "      <td>109.735724</td>\n",
       "    </tr>\n",
       "  </tbody>\n",
       "</table>\n",
       "</div>"
      ],
      "text/plain": [
       "          hotel  avg_lead_time\n",
       "0  Resort Hotel      92.675686\n",
       "1    City Hotel     109.735724"
      ]
     },
     "execution_count": 1,
     "metadata": {},
     "output_type": "execute_result"
    }
   ],
   "source": [
    "%%bigquery \n",
    "SELECT hotel,avg(lead_time)as avg_lead_time FROM `ba-775-project-team6.HotelBooking.hotelbooking`\n",
    "GROUP BY hotel\n"
   ]
  },
  {
   "cell_type": "markdown",
   "id": "0cd2284e",
   "metadata": {},
   "source": [
    "![](https://2615d6a73e1c8ea7-dot-us-west1.notebooks.googleusercontent.com/files/Project/Screenshot%202021-08-29%20at%201.29.20%20PM.png?_xsrf=2%7C97c0573c%7C9ee4eeeb0f3089fb46944e66596858da%7C1629735722)"
   ]
  },
  {
   "cell_type": "markdown",
   "id": "68f1de9b",
   "metadata": {},
   "source": [
    "#### Attention:\n",
    "The average lead time for Resort Hotel is 92.675686 (days), and the average lead time for City Hotel is 109.735724 (days). But that's not the whole picture. The average lead_time is so high is not because people always book the hotel nearly 100 days in advance. It is mainly the result of outliers. Let's see the next two query."
   ]
  },
  {
   "cell_type": "code",
   "execution_count": 21,
   "id": "4814ae4e",
   "metadata": {},
   "outputs": [
    {
     "name": "stderr",
     "output_type": "stream",
     "text": [
      "Query complete after 0.00s: 100%|██████████| 5/5 [00:00<00:00, 2629.66query/s]                        \n",
      "Downloading: 100%|██████████| 5/5 [00:01<00:00,  3.22rows/s]\n"
     ]
    },
    {
     "data": {
      "text/html": [
       "<div>\n",
       "<style scoped>\n",
       "    .dataframe tbody tr th:only-of-type {\n",
       "        vertical-align: middle;\n",
       "    }\n",
       "\n",
       "    .dataframe tbody tr th {\n",
       "        vertical-align: top;\n",
       "    }\n",
       "\n",
       "    .dataframe thead th {\n",
       "        text-align: right;\n",
       "    }\n",
       "</style>\n",
       "<table border=\"1\" class=\"dataframe\">\n",
       "  <thead>\n",
       "    <tr style=\"text-align: right;\">\n",
       "      <th></th>\n",
       "      <th>Weeks_in_advance</th>\n",
       "      <th>Number_of_Booking</th>\n",
       "      <th>Proportion_of_Booking</th>\n",
       "    </tr>\n",
       "  </thead>\n",
       "  <tbody>\n",
       "    <tr>\n",
       "      <th>0</th>\n",
       "      <td>1.0</td>\n",
       "      <td>13690</td>\n",
       "      <td>0.114666</td>\n",
       "    </tr>\n",
       "    <tr>\n",
       "      <th>1</th>\n",
       "      <td>2.0</td>\n",
       "      <td>9162</td>\n",
       "      <td>0.076740</td>\n",
       "    </tr>\n",
       "    <tr>\n",
       "      <th>2</th>\n",
       "      <td>3.0</td>\n",
       "      <td>6582</td>\n",
       "      <td>0.055130</td>\n",
       "    </tr>\n",
       "    <tr>\n",
       "      <th>3</th>\n",
       "      <td>4.0</td>\n",
       "      <td>5108</td>\n",
       "      <td>0.042784</td>\n",
       "    </tr>\n",
       "    <tr>\n",
       "      <th>4</th>\n",
       "      <td>5.0</td>\n",
       "      <td>4849</td>\n",
       "      <td>0.040615</td>\n",
       "    </tr>\n",
       "  </tbody>\n",
       "</table>\n",
       "</div>"
      ],
      "text/plain": [
       "   Weeks_in_advance  Number_of_Booking  Proportion_of_Booking\n",
       "0               1.0              13690               0.114666\n",
       "1               2.0               9162               0.076740\n",
       "2               3.0               6582               0.055130\n",
       "3               4.0               5108               0.042784\n",
       "4               5.0               4849               0.040615"
      ]
     },
     "execution_count": 21,
     "metadata": {},
     "output_type": "execute_result"
    }
   ],
   "source": [
    "%%bigquery\n",
    "SELECT\n",
    "lead_weeks AS Weeks_in_advance,\n",
    "COUNT(*) AS Number_of_Booking,\n",
    "COUNT(*)/(SELECT COUNT(*) FROM `ba-775-project-team6.HotelBooking.hotelbooking`) AS Proportion_of_Booking\n",
    "FROM\n",
    "(SELECT ROUND(lead_time/7)+1 AS lead_weeks\n",
    "FROM `ba-775-project-team6.HotelBooking.hotelbooking`)\n",
    "GROUP BY lead_weeks\n",
    "ORDER BY lead_weeks\n",
    "LIMIT 5"
   ]
  },
  {
   "cell_type": "code",
   "execution_count": 24,
   "id": "cc68fb84",
   "metadata": {},
   "outputs": [
    {
     "name": "stderr",
     "output_type": "stream",
     "text": [
      "Query complete after 0.00s: 100%|██████████| 5/5 [00:00<00:00, 2920.82query/s]                        \n",
      "Downloading: 100%|██████████| 5/5 [00:01<00:00,  3.90rows/s]\n"
     ]
    },
    {
     "data": {
      "text/html": [
       "<div>\n",
       "<style scoped>\n",
       "    .dataframe tbody tr th:only-of-type {\n",
       "        vertical-align: middle;\n",
       "    }\n",
       "\n",
       "    .dataframe tbody tr th {\n",
       "        vertical-align: top;\n",
       "    }\n",
       "\n",
       "    .dataframe thead th {\n",
       "        text-align: right;\n",
       "    }\n",
       "</style>\n",
       "<table border=\"1\" class=\"dataframe\">\n",
       "  <thead>\n",
       "    <tr style=\"text-align: right;\">\n",
       "      <th></th>\n",
       "      <th>Weeks_in_advance</th>\n",
       "      <th>Number_of_Booking</th>\n",
       "      <th>Proportion_of_Booking</th>\n",
       "    </tr>\n",
       "  </thead>\n",
       "  <tbody>\n",
       "    <tr>\n",
       "      <th>0</th>\n",
       "      <td>106.0</td>\n",
       "      <td>1</td>\n",
       "      <td>0.000008</td>\n",
       "    </tr>\n",
       "    <tr>\n",
       "      <th>1</th>\n",
       "      <td>102.0</td>\n",
       "      <td>1</td>\n",
       "      <td>0.000008</td>\n",
       "    </tr>\n",
       "    <tr>\n",
       "      <th>2</th>\n",
       "      <td>91.0</td>\n",
       "      <td>17</td>\n",
       "      <td>0.000142</td>\n",
       "    </tr>\n",
       "    <tr>\n",
       "      <th>3</th>\n",
       "      <td>90.0</td>\n",
       "      <td>47</td>\n",
       "      <td>0.000394</td>\n",
       "    </tr>\n",
       "    <tr>\n",
       "      <th>4</th>\n",
       "      <td>89.0</td>\n",
       "      <td>17</td>\n",
       "      <td>0.000142</td>\n",
       "    </tr>\n",
       "  </tbody>\n",
       "</table>\n",
       "</div>"
      ],
      "text/plain": [
       "   Weeks_in_advance  Number_of_Booking  Proportion_of_Booking\n",
       "0             106.0                  1               0.000008\n",
       "1             102.0                  1               0.000008\n",
       "2              91.0                 17               0.000142\n",
       "3              90.0                 47               0.000394\n",
       "4              89.0                 17               0.000142"
      ]
     },
     "execution_count": 24,
     "metadata": {},
     "output_type": "execute_result"
    }
   ],
   "source": [
    "%%bigquery\n",
    "SELECT\n",
    "lead_weeks AS Weeks_in_advance,\n",
    "COUNT(*) AS Number_of_Booking,\n",
    "COUNT(*)/(SELECT COUNT(*) FROM `ba-775-project-team6.HotelBooking.hotelbooking`) AS Proportion_of_Booking\n",
    "FROM\n",
    "(SELECT ROUND(lead_time/7)+1 AS lead_weeks\n",
    "FROM `ba-775-project-team6.HotelBooking.hotelbooking`)\n",
    "GROUP BY lead_weeks\n",
    "ORDER BY lead_weeks DESC\n",
    "LIMIT 5"
   ]
  },
  {
   "cell_type": "markdown",
   "id": "ae48b906",
   "metadata": {},
   "source": [
    "From the above results, we can see that most people don't make reservation so much in advance, but a few people make it too early, which increases the average number of days in advance."
   ]
  },
  {
   "cell_type": "markdown",
   "id": "a442e39b",
   "metadata": {},
   "source": [
    "### What are the average daily rates of the two types of Hotels over the three-year period?\n",
    "\n",
    "Average Daily Rate (ADR) - Calculated by dividing the sum of all lodging transactions by the total number of staying nights"
   ]
  },
  {
   "cell_type": "code",
   "execution_count": 25,
   "id": "75862826",
   "metadata": {},
   "outputs": [
    {
     "name": "stderr",
     "output_type": "stream",
     "text": [
      "Query complete after 0.00s: 100%|██████████| 3/3 [00:00<00:00, 1236.77query/s]                        \n",
      "Downloading: 100%|██████████| 6/6 [00:01<00:00,  4.32rows/s]\n"
     ]
    },
    {
     "data": {
      "text/html": [
       "<div>\n",
       "<style scoped>\n",
       "    .dataframe tbody tr th:only-of-type {\n",
       "        vertical-align: middle;\n",
       "    }\n",
       "\n",
       "    .dataframe tbody tr th {\n",
       "        vertical-align: top;\n",
       "    }\n",
       "\n",
       "    .dataframe thead th {\n",
       "        text-align: right;\n",
       "    }\n",
       "</style>\n",
       "<table border=\"1\" class=\"dataframe\">\n",
       "  <thead>\n",
       "    <tr style=\"text-align: right;\">\n",
       "      <th></th>\n",
       "      <th>hotel</th>\n",
       "      <th>Avg_Dailyrate</th>\n",
       "      <th>arrival_date_year</th>\n",
       "    </tr>\n",
       "  </thead>\n",
       "  <tbody>\n",
       "    <tr>\n",
       "      <th>0</th>\n",
       "      <td>City Hotel</td>\n",
       "      <td>85.856915</td>\n",
       "      <td>2015</td>\n",
       "    </tr>\n",
       "    <tr>\n",
       "      <th>1</th>\n",
       "      <td>Resort Hotel</td>\n",
       "      <td>89.353417</td>\n",
       "      <td>2015</td>\n",
       "    </tr>\n",
       "    <tr>\n",
       "      <th>2</th>\n",
       "      <td>City Hotel</td>\n",
       "      <td>103.483683</td>\n",
       "      <td>2016</td>\n",
       "    </tr>\n",
       "    <tr>\n",
       "      <th>3</th>\n",
       "      <td>Resort Hotel</td>\n",
       "      <td>87.730762</td>\n",
       "      <td>2016</td>\n",
       "    </tr>\n",
       "    <tr>\n",
       "      <th>4</th>\n",
       "      <td>City Hotel</td>\n",
       "      <td>117.501864</td>\n",
       "      <td>2017</td>\n",
       "    </tr>\n",
       "    <tr>\n",
       "      <th>5</th>\n",
       "      <td>Resort Hotel</td>\n",
       "      <td>108.660217</td>\n",
       "      <td>2017</td>\n",
       "    </tr>\n",
       "  </tbody>\n",
       "</table>\n",
       "</div>"
      ],
      "text/plain": [
       "          hotel  Avg_Dailyrate  arrival_date_year\n",
       "0    City Hotel      85.856915               2015\n",
       "1  Resort Hotel      89.353417               2015\n",
       "2    City Hotel     103.483683               2016\n",
       "3  Resort Hotel      87.730762               2016\n",
       "4    City Hotel     117.501864               2017\n",
       "5  Resort Hotel     108.660217               2017"
      ]
     },
     "execution_count": 25,
     "metadata": {},
     "output_type": "execute_result"
    }
   ],
   "source": [
    "%%bigquery\n",
    "\n",
    "SELECT hotel, AVG(adr) AS Avg_Dailyrate, arrival_date_year\n",
    "FROM\n",
    "  `ba-775-project-team6.HotelBooking.hotelbooking`\n",
    "GROUP BY\n",
    "  arrival_date_year, hotel\n",
    "ORDER BY \n",
    "  arrival_date_year, hotel;\n"
   ]
  },
  {
   "cell_type": "markdown",
   "id": "b4f00f27",
   "metadata": {},
   "source": [
    "The average daily rate in year 2015, 2016, 2017 are: City Hotel = 85.856915 Resort Hotel = 89.353417 in 2015, City Hotel = 103.483683 Resort Hotel = 87.730762 in 2016, City Hotel = 117.501864 Resort Hotel = 108.660217 in 2017."
   ]
  },
  {
   "cell_type": "markdown",
   "id": "44f6fc49",
   "metadata": {},
   "source": [
    "# Focus on the cancellation"
   ]
  },
  {
   "cell_type": "markdown",
   "id": "ac7b1478",
   "metadata": {},
   "source": [
    "### If a reserviation is made too early, would it affect the possibility of cancellation?"
   ]
  },
  {
   "cell_type": "markdown",
   "id": "56f98225",
   "metadata": {},
   "source": [
    "### Method 1"
   ]
  },
  {
   "cell_type": "code",
   "execution_count": 97,
   "id": "286fc5be",
   "metadata": {},
   "outputs": [
    {
     "name": "stderr",
     "output_type": "stream",
     "text": [
      "Query complete after 0.00s: 100%|██████████| 2/2 [00:00<00:00, 984.00query/s]                         \n",
      "Downloading: 100%|██████████| 2/2 [00:01<00:00,  1.34rows/s]\n"
     ]
    },
    {
     "data": {
      "text/html": [
       "<div>\n",
       "<style scoped>\n",
       "    .dataframe tbody tr th:only-of-type {\n",
       "        vertical-align: middle;\n",
       "    }\n",
       "\n",
       "    .dataframe tbody tr th {\n",
       "        vertical-align: top;\n",
       "    }\n",
       "\n",
       "    .dataframe thead th {\n",
       "        text-align: right;\n",
       "    }\n",
       "</style>\n",
       "<table border=\"1\" class=\"dataframe\">\n",
       "  <thead>\n",
       "    <tr style=\"text-align: right;\">\n",
       "      <th></th>\n",
       "      <th>Canceled_or_Not</th>\n",
       "      <th>Days_in_Advance</th>\n",
       "    </tr>\n",
       "  </thead>\n",
       "  <tbody>\n",
       "    <tr>\n",
       "      <th>0</th>\n",
       "      <td>0</td>\n",
       "      <td>79.984687</td>\n",
       "    </tr>\n",
       "    <tr>\n",
       "      <th>1</th>\n",
       "      <td>1</td>\n",
       "      <td>144.848815</td>\n",
       "    </tr>\n",
       "  </tbody>\n",
       "</table>\n",
       "</div>"
      ],
      "text/plain": [
       "   Canceled_or_Not  Days_in_Advance\n",
       "0                0        79.984687\n",
       "1                1       144.848815"
      ]
     },
     "execution_count": 97,
     "metadata": {},
     "output_type": "execute_result"
    }
   ],
   "source": [
    "%%bigquery\n",
    "SELECT\n",
    "is_canceled As Canceled_or_Not,\n",
    "AVG(lead_time) AS Days_in_Advance\n",
    "FROM  `ba-775-project-team6.HotelBooking.hotelbooking`\n",
    "GROUP BY is_canceled"
   ]
  },
  {
   "cell_type": "markdown",
   "id": "909fc64d",
   "metadata": {},
   "source": [
    "The average days in advance for bookings not canceled is 79.984687, the average days in advance for bookings canceled is 144.848815.\n",
    "Let's go further in next query."
   ]
  },
  {
   "cell_type": "markdown",
   "id": "3516c8bb",
   "metadata": {},
   "source": [
    "### Method 2"
   ]
  },
  {
   "cell_type": "code",
   "execution_count": 104,
   "id": "77e78e90",
   "metadata": {},
   "outputs": [
    {
     "name": "stderr",
     "output_type": "stream",
     "text": [
      "Query complete after 0.00s: 100%|██████████| 3/3 [00:00<00:00, 1630.33query/s]                        \n",
      "Downloading: 100%|██████████| 4/4 [00:01<00:00,  2.27rows/s]\n"
     ]
    },
    {
     "data": {
      "text/html": [
       "<div>\n",
       "<style scoped>\n",
       "    .dataframe tbody tr th:only-of-type {\n",
       "        vertical-align: middle;\n",
       "    }\n",
       "\n",
       "    .dataframe tbody tr th {\n",
       "        vertical-align: top;\n",
       "    }\n",
       "\n",
       "    .dataframe thead th {\n",
       "        text-align: right;\n",
       "    }\n",
       "</style>\n",
       "<table border=\"1\" class=\"dataframe\">\n",
       "  <thead>\n",
       "    <tr style=\"text-align: right;\">\n",
       "      <th></th>\n",
       "      <th>Weeks_in_advance</th>\n",
       "      <th>Cancellation_Rate</th>\n",
       "    </tr>\n",
       "  </thead>\n",
       "  <tbody>\n",
       "    <tr>\n",
       "      <th>0</th>\n",
       "      <td>One week</td>\n",
       "      <td>0.096323</td>\n",
       "    </tr>\n",
       "    <tr>\n",
       "      <th>1</th>\n",
       "      <td>Two weeks</td>\n",
       "      <td>0.220040</td>\n",
       "    </tr>\n",
       "    <tr>\n",
       "      <th>2</th>\n",
       "      <td>Three weeks</td>\n",
       "      <td>0.286881</td>\n",
       "    </tr>\n",
       "    <tr>\n",
       "      <th>3</th>\n",
       "      <td>More than three weeks</td>\n",
       "      <td>0.450422</td>\n",
       "    </tr>\n",
       "  </tbody>\n",
       "</table>\n",
       "</div>"
      ],
      "text/plain": [
       "        Weeks_in_advance  Cancellation_Rate\n",
       "0               One week           0.096323\n",
       "1              Two weeks           0.220040\n",
       "2            Three weeks           0.286881\n",
       "3  More than three weeks           0.450422"
      ]
     },
     "execution_count": 104,
     "metadata": {},
     "output_type": "execute_result"
    }
   ],
   "source": [
    "%%bigquery\n",
    "SELECT\n",
    "lead_weeks AS Weeks_in_advance,\n",
    "AVG(is_canceled) AS Cancellation_Rate\n",
    "FROM\n",
    "(SELECT \n",
    "is_canceled,\n",
    "lead_time,\n",
    "CASE WHEN lead_time<=7 THEN 'One week'\n",
    "WHEN lead_time<=14 THEN 'Two weeks'\n",
    "WHEN lead_time<=21 THEN 'Three weeks'\n",
    "ELSE 'More than three weeks' END AS lead_weeks\n",
    "FROM `ba-775-project-team6.HotelBooking.hotelbooking`)\n",
    "GROUP BY lead_weeks\n",
    "ORDER BY Cancellation_Rate"
   ]
  },
  {
   "cell_type": "markdown",
   "id": "4d5fffac",
   "metadata": {},
   "source": [
    "![](https://2615d6a73e1c8ea7-dot-us-west1.notebooks.googleusercontent.com/files/Project/Screenshot%202021-08-30%20at%205.35.22%20PM.png?_xsrf=2%7C97c0573c%7C9ee4eeeb0f3089fb46944e66596858da%7C1629735722)"
   ]
  },
  {
   "cell_type": "markdown",
   "id": "fcc5feb2",
   "metadata": {},
   "source": [
    "The cancellation rate goes up with the increase in number of weeks in advance. The result coincides with our common behaviour.\n",
    "For bookings with one week in advance the cancellation rate is 0.096323, two weeks in advance is 0.220040 and three weeks in advance is 0.286881, more than three weeks in advance is 0.450422. "
   ]
  },
  {
   "cell_type": "markdown",
   "id": "375b222e",
   "metadata": {},
   "source": [
    "### Does change of rooom type related to cancellation?"
   ]
  },
  {
   "cell_type": "code",
   "execution_count": 105,
   "id": "2dda38cf",
   "metadata": {},
   "outputs": [
    {
     "name": "stderr",
     "output_type": "stream",
     "text": [
      "Query complete after 0.00s: 100%|██████████| 2/2 [00:00<00:00, 1055.44query/s]                        \n",
      "Downloading: 100%|██████████| 2/2 [00:01<00:00,  1.07rows/s]\n"
     ]
    },
    {
     "data": {
      "text/html": [
       "<div>\n",
       "<style scoped>\n",
       "    .dataframe tbody tr th:only-of-type {\n",
       "        vertical-align: middle;\n",
       "    }\n",
       "\n",
       "    .dataframe tbody tr th {\n",
       "        vertical-align: top;\n",
       "    }\n",
       "\n",
       "    .dataframe thead th {\n",
       "        text-align: right;\n",
       "    }\n",
       "</style>\n",
       "<table border=\"1\" class=\"dataframe\">\n",
       "  <thead>\n",
       "    <tr style=\"text-align: right;\">\n",
       "      <th></th>\n",
       "      <th>Change_of_room_type</th>\n",
       "      <th>Cancellation_Rate</th>\n",
       "    </tr>\n",
       "  </thead>\n",
       "  <tbody>\n",
       "    <tr>\n",
       "      <th>0</th>\n",
       "      <td>0</td>\n",
       "      <td>0.415629</td>\n",
       "    </tr>\n",
       "    <tr>\n",
       "      <th>1</th>\n",
       "      <td>1</td>\n",
       "      <td>0.053764</td>\n",
       "    </tr>\n",
       "  </tbody>\n",
       "</table>\n",
       "</div>"
      ],
      "text/plain": [
       "   Change_of_room_type  Cancellation_Rate\n",
       "0                    0           0.415629\n",
       "1                    1           0.053764"
      ]
     },
     "execution_count": 105,
     "metadata": {},
     "output_type": "execute_result"
    }
   ],
   "source": [
    "%%bigquery\n",
    "SELECT\n",
    "Change_of_room_type,\n",
    "AVG(is_canceled) AS Cancellation_Rate\n",
    "FROM\n",
    "(SELECT\n",
    "is_canceled,\n",
    "CASE WHEN reserved_room_type=assigned_room_type THEN 0\n",
    "WHEN reserved_room_type!=assigned_room_type THEN 1 END AS Change_of_room_type\n",
    "FROM `ba-775-project-team6.HotelBooking.hotelbooking`)\n",
    "GROUP BY Change_of_room_type"
   ]
  },
  {
   "cell_type": "markdown",
   "id": "90e7f15b",
   "metadata": {},
   "source": [
    "The cancellation rate for bookings with out room type change is 0.415629, the cancellation rate for bookings with room type change is 0.053764. This is strange, but considering that the change of room type does not mean the reduction of quality, hotels often only improve the guest room level for free. In this case, guests will not cancel their reservation."
   ]
  },
  {
   "cell_type": "markdown",
   "id": "fa9bbaa7",
   "metadata": {},
   "source": [
    "### If a customer is a repeated guest, would it affect the probability of cancellation?"
   ]
  },
  {
   "cell_type": "code",
   "execution_count": 111,
   "id": "7389546b",
   "metadata": {},
   "outputs": [
    {
     "name": "stderr",
     "output_type": "stream",
     "text": [
      "Query complete after 0.00s: 100%|██████████| 2/2 [00:00<00:00, 1053.71query/s]                        \n",
      "Downloading: 100%|██████████| 2/2 [00:01<00:00,  1.33rows/s]\n"
     ]
    },
    {
     "data": {
      "text/html": [
       "<div>\n",
       "<style scoped>\n",
       "    .dataframe tbody tr th:only-of-type {\n",
       "        vertical-align: middle;\n",
       "    }\n",
       "\n",
       "    .dataframe tbody tr th {\n",
       "        vertical-align: top;\n",
       "    }\n",
       "\n",
       "    .dataframe thead th {\n",
       "        text-align: right;\n",
       "    }\n",
       "</style>\n",
       "<table border=\"1\" class=\"dataframe\">\n",
       "  <thead>\n",
       "    <tr style=\"text-align: right;\">\n",
       "      <th></th>\n",
       "      <th>is_repeated_guest</th>\n",
       "      <th>Cancellation_Rate</th>\n",
       "    </tr>\n",
       "  </thead>\n",
       "  <tbody>\n",
       "    <tr>\n",
       "      <th>0</th>\n",
       "      <td>0</td>\n",
       "      <td>0.377851</td>\n",
       "    </tr>\n",
       "    <tr>\n",
       "      <th>1</th>\n",
       "      <td>1</td>\n",
       "      <td>0.144882</td>\n",
       "    </tr>\n",
       "  </tbody>\n",
       "</table>\n",
       "</div>"
      ],
      "text/plain": [
       "   is_repeated_guest  Cancellation_Rate\n",
       "0                  0           0.377851\n",
       "1                  1           0.144882"
      ]
     },
     "execution_count": 111,
     "metadata": {},
     "output_type": "execute_result"
    }
   ],
   "source": [
    "%%bigquery\n",
    "SELECT\n",
    "is_repeated_guest,\n",
    "AVG(is_canceled) AS Cancellation_Rate\n",
    "FROM `ba-775-project-team6.HotelBooking.hotelbooking`\n",
    "GROUP BY is_repeated_guest"
   ]
  },
  {
   "cell_type": "markdown",
   "id": "0175bc59",
   "metadata": {},
   "source": [
    "A repeated guest tend to hold the booking, since they have booked for the second time, they are naturally satisfied with the hotel environment and price.\n",
    "The cancellation rate for not repeated guest is 0.377851, the cancellation rate for repeated guest is 0.144882."
   ]
  },
  {
   "cell_type": "markdown",
   "id": "fda4796f",
   "metadata": {},
   "source": [
    "# Something more about customers and customer behavior"
   ]
  },
  {
   "cell_type": "markdown",
   "id": "6974fd5a",
   "metadata": {},
   "source": [
    "### Customer composition: What are the different types of customers who make reservations?"
   ]
  },
  {
   "cell_type": "code",
   "execution_count": 4,
   "id": "f76d98d0",
   "metadata": {},
   "outputs": [
    {
     "name": "stderr",
     "output_type": "stream",
     "text": [
      "Query complete after 0.00s: 100%|██████████| 4/4 [00:00<00:00, 1366.22query/s]                        \n",
      "Downloading: 100%|██████████| 4/4 [00:01<00:00,  2.98rows/s]\n"
     ]
    },
    {
     "data": {
      "text/html": [
       "<div>\n",
       "<style scoped>\n",
       "    .dataframe tbody tr th:only-of-type {\n",
       "        vertical-align: middle;\n",
       "    }\n",
       "\n",
       "    .dataframe tbody tr th {\n",
       "        vertical-align: top;\n",
       "    }\n",
       "\n",
       "    .dataframe thead th {\n",
       "        text-align: right;\n",
       "    }\n",
       "</style>\n",
       "<table border=\"1\" class=\"dataframe\">\n",
       "  <thead>\n",
       "    <tr style=\"text-align: right;\">\n",
       "      <th></th>\n",
       "      <th>customer_type</th>\n",
       "      <th>Description</th>\n",
       "      <th>Number_of_Booking</th>\n",
       "    </tr>\n",
       "  </thead>\n",
       "  <tbody>\n",
       "    <tr>\n",
       "      <th>0</th>\n",
       "      <td>Contract</td>\n",
       "      <td>The booking has a contract associated to it</td>\n",
       "      <td>4076</td>\n",
       "    </tr>\n",
       "    <tr>\n",
       "      <th>1</th>\n",
       "      <td>Group</td>\n",
       "      <td>The booking is associated to a group</td>\n",
       "      <td>577</td>\n",
       "    </tr>\n",
       "    <tr>\n",
       "      <th>2</th>\n",
       "      <td>Transient</td>\n",
       "      <td>The booking is not part of a group</td>\n",
       "      <td>89613</td>\n",
       "    </tr>\n",
       "    <tr>\n",
       "      <th>3</th>\n",
       "      <td>Transient-Party</td>\n",
       "      <td>The booking is associated to other booking</td>\n",
       "      <td>25124</td>\n",
       "    </tr>\n",
       "  </tbody>\n",
       "</table>\n",
       "</div>"
      ],
      "text/plain": [
       "     customer_type                                  Description  \\\n",
       "0         Contract  The booking has a contract associated to it   \n",
       "1            Group         The booking is associated to a group   \n",
       "2        Transient           The booking is not part of a group   \n",
       "3  Transient-Party   The booking is associated to other booking   \n",
       "\n",
       "   Number_of_Booking  \n",
       "0               4076  \n",
       "1                577  \n",
       "2              89613  \n",
       "3              25124  "
      ]
     },
     "execution_count": 4,
     "metadata": {},
     "output_type": "execute_result"
    }
   ],
   "source": [
    "\n",
    "%%bigquery\n",
    "SELECT \n",
    "DISTINCT customer_type, \n",
    "CASE\n",
    "WHEN customer_type = 'Transient' THEN ' The booking is not part of a group'\n",
    "WHEN customer_type = 'Transient-Party' THEN ' The booking is associated to other booking'\n",
    "WHEN customer_type = 'Contract' THEN 'The booking has a contract associated to it'\n",
    "WHEN customer_type = 'Group' THEN 'The booking is associated to a group' END AS Description,\n",
    "COUNT(*) AS Number_of_Booking\n",
    "FROM\n",
    "  `ba-775-project-team6.HotelBooking.hotelbooking`\n",
    "GROUP BY\n",
    "  customer_type\n",
    "ORDER BY\n",
    "  customer_type;"
   ]
  },
  {
   "cell_type": "markdown",
   "id": "f6fc9cfa",
   "metadata": {},
   "source": [
    "The types of customers are: Contract, Group, Transient, Transient-Party."
   ]
  },
  {
   "cell_type": "markdown",
   "id": "bd5ebc1e",
   "metadata": {},
   "source": [
    "### What are the different types of Distribution Channels available?"
   ]
  },
  {
   "cell_type": "code",
   "execution_count": 28,
   "id": "d3e6fe5d",
   "metadata": {},
   "outputs": [
    {
     "name": "stderr",
     "output_type": "stream",
     "text": [
      "Query complete after 0.00s: 100%|██████████| 2/2 [00:00<00:00, 1173.89query/s]                        \n",
      "Downloading: 100%|██████████| 5/5 [00:01<00:00,  3.18rows/s]\n"
     ]
    },
    {
     "data": {
      "text/html": [
       "<div>\n",
       "<style scoped>\n",
       "    .dataframe tbody tr th:only-of-type {\n",
       "        vertical-align: middle;\n",
       "    }\n",
       "\n",
       "    .dataframe tbody tr th {\n",
       "        vertical-align: top;\n",
       "    }\n",
       "\n",
       "    .dataframe thead th {\n",
       "        text-align: right;\n",
       "    }\n",
       "</style>\n",
       "<table border=\"1\" class=\"dataframe\">\n",
       "  <thead>\n",
       "    <tr style=\"text-align: right;\">\n",
       "      <th></th>\n",
       "      <th>distribution_channel</th>\n",
       "    </tr>\n",
       "  </thead>\n",
       "  <tbody>\n",
       "    <tr>\n",
       "      <th>0</th>\n",
       "      <td>TA/TO</td>\n",
       "    </tr>\n",
       "    <tr>\n",
       "      <th>1</th>\n",
       "      <td>Direct</td>\n",
       "    </tr>\n",
       "    <tr>\n",
       "      <th>2</th>\n",
       "      <td>Corporate</td>\n",
       "    </tr>\n",
       "    <tr>\n",
       "      <th>3</th>\n",
       "      <td>GDS</td>\n",
       "    </tr>\n",
       "    <tr>\n",
       "      <th>4</th>\n",
       "      <td>Undefined</td>\n",
       "    </tr>\n",
       "  </tbody>\n",
       "</table>\n",
       "</div>"
      ],
      "text/plain": [
       "  distribution_channel\n",
       "0                TA/TO\n",
       "1               Direct\n",
       "2            Corporate\n",
       "3                  GDS\n",
       "4            Undefined"
      ]
     },
     "execution_count": 28,
     "metadata": {},
     "output_type": "execute_result"
    }
   ],
   "source": [
    "%%bigquery\n",
    "\n",
    "SELECT\n",
    "  distribution_channel\n",
    "FROM\n",
    "  `ba-775-project-team6.HotelBooking.hotelbooking`\n",
    "GROUP BY\n",
    "  distribution_channel;"
   ]
  },
  {
   "cell_type": "markdown",
   "id": "e03abf3f",
   "metadata": {},
   "source": [
    "The types of distribution channels available are: Travel Agents/Tour Operators, Direct, Corporate, GDS, and Undefined."
   ]
  },
  {
   "cell_type": "markdown",
   "id": "7694d614",
   "metadata": {},
   "source": [
    "### Total cancellations of two hotel types with respect to the different distribution channels"
   ]
  },
  {
   "cell_type": "code",
   "execution_count": 6,
   "id": "510321a8",
   "metadata": {},
   "outputs": [
    {
     "name": "stderr",
     "output_type": "stream",
     "text": [
      "Query complete after 0.00s: 100%|██████████| 3/3 [00:00<00:00, 1825.73query/s]                        \n",
      "Downloading: 100%|██████████| 9/9 [00:01<00:00,  7.56rows/s]\n"
     ]
    },
    {
     "data": {
      "text/html": [
       "<div>\n",
       "<style scoped>\n",
       "    .dataframe tbody tr th:only-of-type {\n",
       "        vertical-align: middle;\n",
       "    }\n",
       "\n",
       "    .dataframe tbody tr th {\n",
       "        vertical-align: top;\n",
       "    }\n",
       "\n",
       "    .dataframe thead th {\n",
       "        text-align: right;\n",
       "    }\n",
       "</style>\n",
       "<table border=\"1\" class=\"dataframe\">\n",
       "  <thead>\n",
       "    <tr style=\"text-align: right;\">\n",
       "      <th></th>\n",
       "      <th>hotel</th>\n",
       "      <th>distribution_channel</th>\n",
       "      <th>Total_Cancellations</th>\n",
       "      <th>Cancellation_Rate</th>\n",
       "    </tr>\n",
       "  </thead>\n",
       "  <tbody>\n",
       "    <tr>\n",
       "      <th>0</th>\n",
       "      <td>City Hotel</td>\n",
       "      <td>Corporate</td>\n",
       "      <td>786</td>\n",
       "      <td>0.230634</td>\n",
       "    </tr>\n",
       "    <tr>\n",
       "      <th>1</th>\n",
       "      <td>Resort Hotel</td>\n",
       "      <td>Corporate</td>\n",
       "      <td>688</td>\n",
       "      <td>0.210462</td>\n",
       "    </tr>\n",
       "    <tr>\n",
       "      <th>2</th>\n",
       "      <td>City Hotel</td>\n",
       "      <td>Direct</td>\n",
       "      <td>1232</td>\n",
       "      <td>0.181711</td>\n",
       "    </tr>\n",
       "    <tr>\n",
       "      <th>3</th>\n",
       "      <td>Resort Hotel</td>\n",
       "      <td>Direct</td>\n",
       "      <td>1325</td>\n",
       "      <td>0.168468</td>\n",
       "    </tr>\n",
       "    <tr>\n",
       "      <th>4</th>\n",
       "      <td>City Hotel</td>\n",
       "      <td>GDS</td>\n",
       "      <td>37</td>\n",
       "      <td>0.191710</td>\n",
       "    </tr>\n",
       "    <tr>\n",
       "      <th>5</th>\n",
       "      <td>City Hotel</td>\n",
       "      <td>TA/TO</td>\n",
       "      <td>31043</td>\n",
       "      <td>0.450257</td>\n",
       "    </tr>\n",
       "    <tr>\n",
       "      <th>6</th>\n",
       "      <td>Resort Hotel</td>\n",
       "      <td>TA/TO</td>\n",
       "      <td>9109</td>\n",
       "      <td>0.314918</td>\n",
       "    </tr>\n",
       "    <tr>\n",
       "      <th>7</th>\n",
       "      <td>City Hotel</td>\n",
       "      <td>Undefined</td>\n",
       "      <td>4</td>\n",
       "      <td>1.000000</td>\n",
       "    </tr>\n",
       "    <tr>\n",
       "      <th>8</th>\n",
       "      <td>Resort Hotel</td>\n",
       "      <td>Undefined</td>\n",
       "      <td>0</td>\n",
       "      <td>0.000000</td>\n",
       "    </tr>\n",
       "  </tbody>\n",
       "</table>\n",
       "</div>"
      ],
      "text/plain": [
       "          hotel distribution_channel  Total_Cancellations  Cancellation_Rate\n",
       "0    City Hotel            Corporate                  786           0.230634\n",
       "1  Resort Hotel            Corporate                  688           0.210462\n",
       "2    City Hotel               Direct                 1232           0.181711\n",
       "3  Resort Hotel               Direct                 1325           0.168468\n",
       "4    City Hotel                  GDS                   37           0.191710\n",
       "5    City Hotel                TA/TO                31043           0.450257\n",
       "6  Resort Hotel                TA/TO                 9109           0.314918\n",
       "7    City Hotel            Undefined                    4           1.000000\n",
       "8  Resort Hotel            Undefined                    0           0.000000"
      ]
     },
     "execution_count": 6,
     "metadata": {},
     "output_type": "execute_result"
    }
   ],
   "source": [
    "%%bigquery\n",
    "\n",
    "SELECT\n",
    "  hotel, distribution_channel, SUM(is_canceled) AS Total_Cancellations, AVG(is_canceled) AS Cancellation_Rate\n",
    "FROM\n",
    "  `ba-775-project-team6.HotelBooking.hotelbooking`\n",
    "GROUP BY\n",
    "  hotel, distribution_channel\n",
    "ORDER BY \n",
    "  distribution_channel, hotel ;"
   ]
  },
  {
   "cell_type": "markdown",
   "id": "4d94fa54",
   "metadata": {},
   "source": [
    "![](https://2615d6a73e1c8ea7-dot-us-west1.notebooks.googleusercontent.com/files/Project/Screenshot%202021-08-29%20at%2011.57.58%20AM.png?_xsrf=2%7C97c0573c%7C9ee4eeeb0f3089fb46944e66596858da%7C1629735722)"
   ]
  },
  {
   "cell_type": "markdown",
   "id": "c140e11b",
   "metadata": {},
   "source": [
    "The Travel Agents/Tour Operators distribution has the highest cancellation rate for Resort and City Hotel with 0.450257 and 0.314918 respectively."
   ]
  },
  {
   "cell_type": "markdown",
   "id": "4a8e91cf",
   "metadata": {},
   "source": [
    "### If travel with children, would the family tend to drive a car?"
   ]
  },
  {
   "cell_type": "code",
   "execution_count": 39,
   "id": "9fbb8ae2",
   "metadata": {},
   "outputs": [
    {
     "name": "stderr",
     "output_type": "stream",
     "text": [
      "Query complete after 0.00s: 100%|██████████| 2/2 [00:00<00:00, 1049.36query/s]                        \n",
      "Downloading: 100%|██████████| 2/2 [00:01<00:00,  1.38rows/s]\n"
     ]
    },
    {
     "data": {
      "text/html": [
       "<div>\n",
       "<style scoped>\n",
       "    .dataframe tbody tr th:only-of-type {\n",
       "        vertical-align: middle;\n",
       "    }\n",
       "\n",
       "    .dataframe tbody tr th {\n",
       "        vertical-align: top;\n",
       "    }\n",
       "\n",
       "    .dataframe thead th {\n",
       "        text-align: right;\n",
       "    }\n",
       "</style>\n",
       "<table border=\"1\" class=\"dataframe\">\n",
       "  <thead>\n",
       "    <tr style=\"text-align: right;\">\n",
       "      <th></th>\n",
       "      <th>With_child_or_not</th>\n",
       "      <th>Posibility_of_Driving</th>\n",
       "    </tr>\n",
       "  </thead>\n",
       "  <tbody>\n",
       "    <tr>\n",
       "      <th>0</th>\n",
       "      <td>Not_with_child</td>\n",
       "      <td>0.058</td>\n",
       "    </tr>\n",
       "    <tr>\n",
       "      <th>1</th>\n",
       "      <td>With_child</td>\n",
       "      <td>0.116</td>\n",
       "    </tr>\n",
       "  </tbody>\n",
       "</table>\n",
       "</div>"
      ],
      "text/plain": [
       "  With_child_or_not  Posibility_of_Driving\n",
       "0    Not_with_child                  0.058\n",
       "1        With_child                  0.116"
      ]
     },
     "execution_count": 39,
     "metadata": {},
     "output_type": "execute_result"
    }
   ],
   "source": [
    "%%bigquery\n",
    "SELECT\n",
    "  (CASE WHEN children>0 Then 'With_child'\n",
    "WHEN children=0 Then 'Not_with_child' END) AS With_child_or_not,\n",
    "   ROUND(AVG(required_car_parking_spaces),3) AS Posibility_of_Driving\n",
    "FROM\n",
    "  `ba-775-project-team6.HotelBooking.hotelbooking`\n",
    "GROUP BY \n",
    "With_child_or_not"
   ]
  },
  {
   "cell_type": "markdown",
   "id": "d6e2a56f",
   "metadata": {},
   "source": [
    "The results show that if guests travel with their children, they are more likely to drive and ask for reserved parking spaces."
   ]
  },
  {
   "cell_type": "markdown",
   "id": "0f21b65e",
   "metadata": {},
   "source": [
    "![](https://2615d6a73e1c8ea7-dot-us-west1.notebooks.googleusercontent.com/files/Project/Screenshot%202021-08-30%20at%205.58.25%20PM.png?_xsrf=2%7C97c0573c%7C9ee4eeeb0f3089fb46944e66596858da%7C1629735722)"
   ]
  },
  {
   "cell_type": "markdown",
   "id": "4c3916e9",
   "metadata": {},
   "source": [
    "![](https://2615d6a73e1c8ea7-dot-us-west1.notebooks.googleusercontent.com/files/Project/Screenshot%202021-08-30%20at%205.59.02%20PM.png?_xsrf=2%7C97c0573c%7C9ee4eeeb0f3089fb46944e66596858da%7C1629735722)"
   ]
  },
  {
   "cell_type": "markdown",
   "id": "395f291a",
   "metadata": {},
   "source": [
    "# Conclusion"
   ]
  },
  {
   "cell_type": "markdown",
   "id": "30110ecf",
   "metadata": {},
   "source": [
    "This dataset consists of hotel booking cases that are collected from all over the world, and divided into two hotel types: resort hotel and city hotel. We analyzed this dataset to determine the different variables that affected the booking and cancellation rate of the hotels.The variables that had the most impact on the hotel booking rate are lead time, repeated customers and peak season. \n",
    "\n",
    "During the peak season from June to August, people tend to book more hotels. The intended stay period is in August, which was indicated by the huge volume of bookings for August. People tend to book for the August season couple of months in advance and are more likely to change their plans as observed from the higher cancellation rate in June.\n",
    "\n",
    "The next variable that impacts the cancellation rate of hotels is the lead time of booking. We observed from the dataset that a higher lead time leads to a tremendous increase in cancellation rate. For bookings with more than three weeks of lead time, the cancellation rates are almost 5 times than that of bookings with a lead time of 1 week.\n",
    "\n",
    "The next variable that we investigated was the impact of a room change on the cancellation rate. We expected to see an increase in the cancellation rate when the hotel changed the room type of the customers. But the result was contradictory to our expectations. The cancellation rate of the people who didn't receive a room change was almost 8 times more than that of people who received a room change. This implies that the change in room type didn't compromise on the quality of the rooms and it still met the expectations of the majority of the customers. Additionally, this room change might have been an upgrade for some and hence the very low cancellation rate. We then investigated the booking behaviour of repeated customers. We found that repeated customers tend to be more satisfied with the hotel and have a lower caancellation rate. \n"
   ]
  }
 ],
 "metadata": {
  "environment": {
   "name": "tf2-gpu.2-3.m78",
   "type": "gcloud",
   "uri": "gcr.io/deeplearning-platform-release/tf2-gpu.2-3:m78"
  },
  "kernelspec": {
   "display_name": "Python 3",
   "language": "python",
   "name": "python3"
  },
  "language_info": {
   "codemirror_mode": {
    "name": "ipython",
    "version": 3
   },
   "file_extension": ".py",
   "mimetype": "text/x-python",
   "name": "python",
   "nbconvert_exporter": "python",
   "pygments_lexer": "ipython3",
   "version": "3.7.10"
  }
 },
 "nbformat": 4,
 "nbformat_minor": 5
}
